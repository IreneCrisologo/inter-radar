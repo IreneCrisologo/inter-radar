{
 "cells": [
  {
   "cell_type": "markdown",
   "metadata": {},
   "source": [
    "# Getting the reflectivity values from the matched bins"
   ]
  },
  {
   "cell_type": "code",
   "execution_count": 3,
   "metadata": {
    "collapsed": false
   },
   "outputs": [],
   "source": [
    "import wradlib as wrl\n",
    "import numpy as np\n",
    "import matplotlib.pyplot as pl\n",
    "import numpy as np\n",
    "import pickle\n",
    "import os\n",
    "\n",
    "import pandas as pd\n",
    "import datetime as dt"
   ]
  },
  {
   "cell_type": "code",
   "execution_count": 4,
   "metadata": {
    "collapsed": false
   },
   "outputs": [],
   "source": [
    "# Getting back the matched points from the previous notebook:\n",
    "with open('./output/GRGRmatchedpoints.pkl', 'rb') as f:  # Python 3: open(..., 'rb')\n",
    "    [rs_matched1_el0, thetas_matched1_el0, rs_matched2_el0, thetas_matched2_el0] = pickle.load(f)"
   ]
  },
  {
   "cell_type": "code",
   "execution_count": 5,
   "metadata": {
    "collapsed": true
   },
   "outputs": [],
   "source": [
    "SUB_fname = './DATA/TAG-20120806-171547-02-Z.nc'\n",
    "TAG_fname = './DATA/TAG-20120806-171547-02-Z.nc'\n",
    "\n",
    "PIA_fname = './DATA/PIA_dp_TAG-20120806-171547-02.hdf5'\n",
    "\n",
    "SUB_BBF_fname = './DATA/SUB_qual_02-ZH_120km_r500m_BBF.hdf5'\n",
    "TAG_BBF_fname = './DATA/TAG_qual_02-ZH_120km_r500m_BBF.hdf5'"
   ]
  },
  {
   "cell_type": "code",
   "execution_count": 6,
   "metadata": {
    "collapsed": false
   },
   "outputs": [],
   "source": [
    "pia_dp, att = wrl.io.from_hdf5(PIA_fname)\n",
    "\n",
    "SUB_BBF_qual, att = wrl.io.from_hdf5(SUB_BBF_fname)\n",
    "TAG_BBF_qual, att = wrl.io.from_hdf5(TAG_BBF_fname)"
   ]
  },
  {
   "cell_type": "markdown",
   "metadata": {},
   "source": [
    "### Calculate Q_PIA\n",
    "\n",
    "Based on equation from Friedrich et al. (2006)\n",
    "\n",
    "\\begin{equation}\n",
    "Q_{att} = \\left\\{\\begin{matrix}\n",
    "1 & \\text{for} & K_{r,s} < K_{min}\\\\ \n",
    "0 & \\text{for} & K_{r,s} > K_{max}\\\\ \n",
    "\\frac{K_{max} - K_{r,s}}{K_{max} - K_{min}} & \\text{else}, & \n",
    "\\end{matrix}\\right\\}\n",
    "\\end{equation}"
   ]
  },
  {
   "cell_type": "code",
   "execution_count": 7,
   "metadata": {
    "collapsed": false
   },
   "outputs": [],
   "source": [
    "Kmax = 10.0\n",
    "Kmin = 1.0\n",
    "\n",
    "TAG_PIA_qual = np.empty(pia_dp.shape)*np.nan\n",
    "TAG_PIA_qual[pia_dp > Kmax] = 0\n",
    "TAG_PIA_qual[pia_dp < Kmin] = 1\n",
    "TAG_PIA_qual[(pia_dp>=Kmin)&(pia_dp<=Kmax)] = (Kmax-pia_dp[(pia_dp>=Kmin) & (pia_dp<=Kmax)])/(Kmax-Kmin)"
   ]
  },
  {
   "cell_type": "code",
   "execution_count": 8,
   "metadata": {
    "collapsed": false
   },
   "outputs": [],
   "source": [
    "Q_SUB = SUB_BBF_qual\n",
    "Q_TAG = TAG_BBF_qual * TAG_PIA_qual"
   ]
  },
  {
   "cell_type": "code",
   "execution_count": 9,
   "metadata": {
    "collapsed": false
   },
   "outputs": [],
   "source": [
    "# fig = pl.figure(figsize=(11,4))\n",
    "\n",
    "# ax1 = fig.add_subplot(1,2,1, aspect='equal')\n",
    "# ax1,pm1 = wrl.vis.plot_ppi(SUB_BBF, ax=ax1, cmap=pl.cm.Blues_r)\n",
    "# cb = pl.colorbar(pm1)\n",
    "# pl.title('$Q_{SUB,BBF}$')\n",
    "\n",
    "# ax2 = fig.add_subplot(1,2,2, aspect='equal')\n",
    "# ax2,pm2 = wrl.vis.plot_ppi(TAG_BBF, ax=ax2, cmap=pl.cm.Blues_r)\n",
    "# cb = pl.colorbar(pm2)\n",
    "# pl.title('$Q_{TAG,BBF}$')"
   ]
  },
  {
   "cell_type": "code",
   "execution_count": 10,
   "metadata": {
    "collapsed": false
   },
   "outputs": [
    {
     "name": "stderr",
     "output_type": "stream",
     "text": [
      "C:\\Anaconda\\envs\\wradlib35_2\\lib\\site-packages\\ipykernel_launcher.py:31: FutureWarning: set_value is deprecated and will be removed in a future release. Please use .at[] or .iat[] accessors instead\n",
      "C:\\Anaconda\\envs\\wradlib35_2\\lib\\site-packages\\ipykernel_launcher.py:32: FutureWarning: set_value is deprecated and will be removed in a future release. Please use .at[] or .iat[] accessors instead\n",
      "C:\\Anaconda\\envs\\wradlib35_2\\lib\\site-packages\\ipykernel_launcher.py:33: FutureWarning: set_value is deprecated and will be removed in a future release. Please use .at[] or .iat[] accessors instead\n",
      "C:\\Anaconda\\envs\\wradlib35_2\\lib\\site-packages\\ipykernel_launcher.py:34: FutureWarning: set_value is deprecated and will be removed in a future release. Please use .at[] or .iat[] accessors instead\n",
      "C:\\Anaconda\\envs\\wradlib35_2\\lib\\site-packages\\ipykernel_launcher.py:35: FutureWarning: set_value is deprecated and will be removed in a future release. Please use .at[] or .iat[] accessors instead\n",
      "C:\\Anaconda\\envs\\wradlib35_2\\lib\\site-packages\\ipykernel_launcher.py:36: FutureWarning: set_value is deprecated and will be removed in a future release. Please use .at[] or .iat[] accessors instead\n",
      "C:\\Anaconda\\envs\\wradlib35_2\\lib\\site-packages\\ipykernel_launcher.py:37: FutureWarning: set_value is deprecated and will be removed in a future release. Please use .at[] or .iat[] accessors instead\n",
      "C:\\Anaconda\\envs\\wradlib35_2\\lib\\site-packages\\ipykernel_launcher.py:38: FutureWarning: set_value is deprecated and will be removed in a future release. Please use .at[] or .iat[] accessors instead\n",
      "C:\\Anaconda\\envs\\wradlib35_2\\lib\\site-packages\\ipykernel_launcher.py:39: FutureWarning: set_value is deprecated and will be removed in a future release. Please use .at[] or .iat[] accessors instead\n",
      "C:\\Anaconda\\envs\\wradlib35_2\\lib\\site-packages\\ipykernel_launcher.py:40: FutureWarning: set_value is deprecated and will be removed in a future release. Please use .at[] or .iat[] accessors instead\n"
     ]
    },
    {
     "name": "stdout",
     "output_type": "stream",
     "text": [
      "+\n",
      "Done!\n"
     ]
    },
    {
     "name": "stderr",
     "output_type": "stream",
     "text": [
      "C:\\Anaconda\\envs\\wradlib35_2\\lib\\site-packages\\pandas\\core\\generic.py:1996: PerformanceWarning: \n",
      "your performance may suffer as PyTables will pickle object types that it cannot\n",
      "map directly to c-types [inferred_type->datetime,key->block1_values] [items->['sub_date', 'tag_date']]\n",
      "\n",
      "  return pytables.to_hdf(path_or_buf, key, self, **kwargs)\n"
     ]
    }
   ],
   "source": [
    "elev = '02'\n",
    "\n",
    "if elev=='02':\n",
    "    rs_matched1 = rs_matched1_el0\n",
    "    thetas_matched1 = thetas_matched1_el0\n",
    "    rs_matched2 = rs_matched2_el0\n",
    "    thetas_matched2 = thetas_matched2_el0\n",
    "\n",
    "try:\n",
    "    dataSUB_el0, metaSUB_el0 = wrl.io.read_edge_netcdf(SUB_fname)\n",
    "    dataTAG_el0, metaTAG_el0 = wrl.io.read_edge_netcdf(TAG_fname)\n",
    "    \n",
    "    pia_dp, att = wrl.io.from_hdf5(PIA_fname)\n",
    "except:\n",
    "    print('o',end='')\n",
    "\n",
    "dataSUB_overlap_el0 = dataSUB_el0[thetas_matched1, rs_matched1]\n",
    "dataTAG_overlap_el0 = dataTAG_el0[thetas_matched2, rs_matched2]\n",
    "\n",
    "Q_SUB_overlap = Q_SUB[thetas_matched1, rs_matched1]\n",
    "Q_TAG_overlap = Q_TAG[thetas_matched2, rs_matched2]\n",
    "\n",
    "emptydata = np.empty((len(dataSUB_overlap_el0.ravel()), 10))\n",
    "emptydata[:] = np.nan\n",
    "\n",
    "df = pd.DataFrame(emptydata, columns=['sub_date','tag_date','time_diff','elev',\n",
    "                                      'theta','r','sub_overlap','tag_overlap',\n",
    "                                      'Q_TAG','Q_SUB'])\n",
    "\n",
    "for j in df.index:\n",
    "    df.set_value(j, 'sub_date', metaSUB_el0['time'])\n",
    "    df.set_value(j, 'tag_date', metaTAG_el0['time'])\n",
    "    df.set_value(j, 'time_diff', abs(metaTAG_el0['time']-metaSUB_el0['time']).seconds)\n",
    "    df.set_value(j, 'elev',elev)\n",
    "    df.set_value(j, 'theta', thetas_matched1_el0[j])\n",
    "    df.set_value(j, 'r', rs_matched1_el0[j])\n",
    "    df.set_value(j, 'sub_overlap', dataSUB_overlap_el0[j])\n",
    "    df.set_value(j, 'tag_overlap', dataTAG_overlap_el0[j])\n",
    "    df.set_value(j, 'Q_TAG', Q_TAG_overlap[j])\n",
    "    df.set_value(j, 'Q_SUB', Q_SUB_overlap[j])\n",
    "\n",
    "# SAVE TO FILE\n",
    "# set path to save processed data\n",
    "savepath = './output/'\n",
    "\n",
    "dbfilename = 'SUBTAG_' + \\\n",
    "             'sub_'+ dt.datetime.strftime(metaSUB_el0['time'], '%Y%m%d_%H%M%S') + \\\n",
    "             '_tag_'+ dt.datetime.strftime(metaTAG_el0['time'], '%Y%m%d_%H%M%S') + \\\n",
    "             '.hdf5'    \n",
    "\n",
    "try:\n",
    "    df_nonan = df.loc[(~np.isnan(df.sub_overlap)) & (~np.isnan(df.tag_overlap))]\n",
    "    df_nonan.to_hdf(os.path.join(savepath, dbfilename), 'dataframe')\n",
    "except:\n",
    "    raise\n",
    "if len(df_nonan)==0:\n",
    "    print('-',end='')\n",
    "else:\n",
    "    print('+',end='')\n",
    "print('')\n",
    "\n",
    "print('Done!')"
   ]
  }
 ],
 "metadata": {
  "anaconda-cloud": {},
  "kernelspec": {
   "display_name": "wradlib35_2",
   "language": "python",
   "name": "wradlib35_2"
  },
  "language_info": {
   "codemirror_mode": {
    "name": "ipython",
    "version": 3
   },
   "file_extension": ".py",
   "mimetype": "text/x-python",
   "name": "python",
   "nbconvert_exporter": "python",
   "pygments_lexer": "ipython3",
   "version": "3.5.5"
  },
  "toc": {
   "nav_menu": {
    "height": "12px",
    "width": "252px"
   },
   "number_sections": false,
   "sideBar": true,
   "skip_h1_title": false,
   "toc_cell": false,
   "toc_position": {},
   "toc_section_display": "block",
   "toc_window_display": false
  }
 },
 "nbformat": 4,
 "nbformat_minor": 2
}
