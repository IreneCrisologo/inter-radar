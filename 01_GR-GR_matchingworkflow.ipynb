{
 "cells": [
  {
   "cell_type": "markdown",
   "metadata": {},
   "source": [
    "# Volume-matching workflow for GR-GR intersections\n",
    "\n",
    "In this notebook, we detail the algorithm for getting the intersections of the ground radar beams."
   ]
  },
  {
   "cell_type": "markdown",
   "metadata": {},
   "source": [
    "Import libraries."
   ]
  },
  {
   "cell_type": "code",
   "execution_count": 1,
   "metadata": {
    "collapsed": false
   },
   "outputs": [],
   "source": [
    "import wradlib as wrl\n",
    "import numpy as np\n",
    "import matplotlib.pyplot as pl\n",
    "import pickle\n",
    "import os\n",
    "from scipy import spatial"
   ]
  },
  {
   "cell_type": "markdown",
   "metadata": {},
   "source": [
    "Set the parameters for the radars.\n",
    "\n",
    "* `tilts` are the elevation angles of the radars in degrees\n",
    "\n",
    "* `ntilt` is the number of elevation angles considered\n",
    "\n",
    "* `nrays` is the number of azimuth angles\n",
    "\n",
    "* `nbins` is the number of bins in one radial\n",
    "\n",
    "* `rscale` is the radial resolution of the radar in meters\n",
    "\n",
    "* `sitecoords` is the coordinates of the radar in (lon,lat,alt)\n",
    "\n",
    "SUBIC radar:"
   ]
  },
  {
   "cell_type": "code",
   "execution_count": 2,
   "metadata": {
    "collapsed": false
   },
   "outputs": [],
   "source": [
    "# let's try for the first 7 elevation angles\n",
    "tilts1 = np.array([0.5, 1.5, 2.4, 3.4, 4.3, 5.3, 6.2])\n",
    "ntilt1 = len(tilts1)\n",
    "nrays1 = 360\n",
    "nbins1 = 240\n",
    "rscale1 = 500.\n",
    "sitecoords1 = (120.364, 14.822, 532)          # (lon, lat, alt)\n",
    "\n",
    "sph1 = np.empty((ntilt1, nrays1, nbins1, 3))\n",
    "for i in range(ntilt1):\n",
    "    elangle = tilts1[i]\n",
    "    sph1[i, ...] = wrl.georef.sweep_centroids(nrays1, rscale1, nbins1, elangle)\n"
   ]
  },
  {
   "cell_type": "markdown",
   "metadata": {},
   "source": [
    "TAGAYTAY radar:"
   ]
  },
  {
   "cell_type": "code",
   "execution_count": 3,
   "metadata": {
    "collapsed": false
   },
   "outputs": [],
   "source": [
    "tilts2 = np.array([0.5, 1.5, 2.4, 3.4, 4.3, 5.3, 6.2])\n",
    "ntilt2 = len(tilts2)\n",
    "nrays2 = 360\n",
    "nbins2 = 240\n",
    "rscale2 = 500.\n",
    "sph2 = np.empty((ntilt2, nrays2, nbins2, 3))\n",
    "for i in range(ntilt2):\n",
    "    elangle = tilts2[i]\n",
    "    sph2[i, ...] = wrl.georef.sweep_centroids(nrays2, rscale2, nbins2, elangle)\n",
    "sitecoords2 = (121.02, 14.14, 752)          # (lon, lat, alt)"
   ]
  },
  {
   "cell_type": "markdown",
   "metadata": {},
   "source": [
    "Transform the spherical coordinates of the radars into azimuthal equidistant projection centered on each radar."
   ]
  },
  {
   "cell_type": "code",
   "execution_count": 4,
   "metadata": {
    "collapsed": false
   },
   "outputs": [],
   "source": [
    "# Radar 1 in azeq1\n",
    "xyz1to1, proj1 = wrl.georef.spherical_to_xyz(sph1[..., 0], np.degrees(sph1[..., 1]),\n",
    "                                                 sph1[..., 2], sitecoords1)\n",
    "\n",
    "# Radar 2 in azeq2\n",
    "xyz2to2, proj2 = wrl.georef.spherical_to_xyz(sph2[..., 0], np.degrees(sph2[..., 1]),\n",
    "                                                 sph2[..., 2], sitecoords2)"
   ]
  },
  {
   "cell_type": "markdown",
   "metadata": {},
   "source": [
    "Notes:\n",
    "\n",
    "`sph2[...,0]` = distance from radar station (m)\n",
    "\n",
    "`sph2[...,1]` = azimuth angle (degrees)\n",
    "\n",
    "`sph2[...,2]` = elevation angle (degrees)"
   ]
  },
  {
   "cell_type": "code",
   "execution_count": 5,
   "metadata": {
    "collapsed": false
   },
   "outputs": [
    {
     "data": {
      "text/plain": [
       "(7, 360, 240, 3)"
      ]
     },
     "execution_count": 5,
     "metadata": {},
     "output_type": "execute_result"
    }
   ],
   "source": [
    "xyz1to1.shape"
   ]
  },
  {
   "cell_type": "markdown",
   "metadata": {},
   "source": [
    "Transform each radar into the other radar's azimuthal equidistance projection."
   ]
  },
  {
   "cell_type": "code",
   "execution_count": 6,
   "metadata": {
    "collapsed": false
   },
   "outputs": [],
   "source": [
    "# Radar 2 in azeq1\n",
    "xyz_2to1 = wrl.georef.spherical_to_proj(sph2[..., 0],np.degrees(sph2[..., 1]),\n",
    "                                               sph2[..., 2], sitecoords2, proj=proj1)\n",
    "\n",
    "# Radar 1 in azeq2\n",
    "xyz_1to2 = wrl.georef.spherical_to_proj(sph1[..., 0],np.degrees(sph1[..., 1]),\n",
    "                                               sph1[..., 2], sitecoords1, proj=proj2)"
   ]
  },
  {
   "cell_type": "markdown",
   "metadata": {},
   "source": [
    "Reproject each coordinate into spherical coordinates again, to compute the region of overlap."
   ]
  },
  {
   "cell_type": "code",
   "execution_count": 7,
   "metadata": {
    "collapsed": false
   },
   "outputs": [],
   "source": [
    "r_1to2, theta_1to2, phi_1to2 = wrl.georef.rect.xyz_to_spherical(xyz_1to2, alt=sitecoords2[2], proj=proj2)\n",
    "r_2to1, theta_2to1, phi_2to1 = wrl.georef.rect.xyz_to_spherical(xyz_2to1, alt=sitecoords1[2], proj=proj1)"
   ]
  },
  {
   "cell_type": "markdown",
   "metadata": {},
   "source": [
    "Select the region of overlap by filtering each region based on the radial distance."
   ]
  },
  {
   "cell_type": "code",
   "execution_count": 8,
   "metadata": {
    "collapsed": false
   },
   "outputs": [],
   "source": [
    "overlap_1in2 = (sph1[...,0] < 120000.) &  (r_1to2 < 120000)\n",
    "overlap_2in1 = (sph2[...,0] < 120000.) &  (r_2to1 < 120000)"
   ]
  },
  {
   "cell_type": "markdown",
   "metadata": {},
   "source": [
    "Let's see how the region of overlap looks like after the filter above."
   ]
  },
  {
   "cell_type": "code",
   "execution_count": 9,
   "metadata": {
    "collapsed": false
   },
   "outputs": [
    {
     "data": {
      "text/plain": [
       "Text(0.5, 1.0, 'TAG')"
      ]
     },
     "execution_count": 9,
     "metadata": {},
     "output_type": "execute_result"
    },
    {
     "data": {
      "image/png": "[encoded data removed]",
      "text/plain": [
       "<Figure size 576x288 with 2 Axes>"
      ]
     },
     "metadata": {
      "needs_background": "light"
     },
     "output_type": "display_data"
    }
   ],
   "source": [
    "fig, (ax1,ax2) = pl.subplots(1,2, figsize=(8,4))\n",
    "\n",
    "ax1,pm1 = wrl.vis.plot_ppi(overlap_1in2[0,:,:], ax=ax1)\n",
    "ax1.set_title('SUB')\n",
    "ax2,pm2 = wrl.vis.plot_ppi(overlap_2in1[0,:,:], ax=ax2)\n",
    "ax2.set_title('TAG')"
   ]
  },
  {
   "cell_type": "markdown",
   "metadata": {
    "collapsed": false
   },
   "source": [
    "The yellow areas above show where one radar overlaps the other."
   ]
  },
  {
   "cell_type": "markdown",
   "metadata": {},
   "source": [
    "How many points are in the overlap?"
   ]
  },
  {
   "cell_type": "code",
   "execution_count": 10,
   "metadata": {
    "collapsed": false
   },
   "outputs": [
    {
     "data": {
      "text/plain": [
       "(348100,)"
      ]
     },
     "execution_count": 10,
     "metadata": {},
     "output_type": "execute_result"
    }
   ],
   "source": [
    "xyz1to1[...,0][overlap_1in2].shape"
   ]
  },
  {
   "cell_type": "markdown",
   "metadata": {},
   "source": [
    "### The matching part.\n",
    "\n",
    "Now we want to find the intersections of the radar beams. To do this, we want to find the distances of the radar bins surrounding each bin.\n",
    "\n",
    "A KDTree approach will be applied.\n",
    "\n",
    "First, a tree is \"planted\". This sets the points at which the neighbors will be searched."
   ]
  },
  {
   "cell_type": "code",
   "execution_count": 11,
   "metadata": {
    "collapsed": false
   },
   "outputs": [
    {
     "name": "stdout",
     "output_type": "stream",
     "text": [
      "Wall time: 1.3 s\n"
     ]
    }
   ],
   "source": [
    "%%time\n",
    "tree = spatial.KDTree(xyz1to1[overlap_1in2].reshape((-1,3)) )"
   ]
  },
  {
   "cell_type": "markdown",
   "metadata": {},
   "source": [
    "`query` then looks for the nearest point and gives it index, as well as the distance."
   ]
  },
  {
   "cell_type": "code",
   "execution_count": 12,
   "metadata": {
    "collapsed": false
   },
   "outputs": [
    {
     "name": "stdout",
     "output_type": "stream",
     "text": [
      "Wall time: 1min 34s\n"
     ]
    }
   ],
   "source": [
    "%%time\n",
    "dists, ix = tree.query(xyz_2to1[overlap_2in1].reshape((-1,3)))"
   ]
  },
  {
   "cell_type": "markdown",
   "metadata": {},
   "source": [
    "Select indices at which the distances of the nearest points are below a certain threshold. In this case, the threshold is set at 250 meters."
   ]
  },
  {
   "cell_type": "code",
   "execution_count": 13,
   "metadata": {
    "collapsed": false
   },
   "outputs": [],
   "source": [
    "ix2 = ix[dists < 250.]\n",
    "ix1 = np.argwhere(dists < 250.)"
   ]
  },
  {
   "cell_type": "markdown",
   "metadata": {},
   "source": [
    "Select the matched points - the nearest points within a certain distance in each of the overlapping areas."
   ]
  },
  {
   "cell_type": "markdown",
   "metadata": {},
   "source": [
    "We can get the polar coordinates of the matched points."
   ]
  },
  {
   "cell_type": "code",
   "execution_count": 14,
   "metadata": {
    "collapsed": false
   },
   "outputs": [],
   "source": [
    "matched1_polar = sph1[overlap_1in2].reshape((-1,3))[ix2,:]\n",
    "matched2_polar = sph2[overlap_2in1].reshape((-1,3))[ix1,:]"
   ]
  },
  {
   "cell_type": "markdown",
   "metadata": {},
   "source": [
    "As an example, let's look at the intersection of the 0.5 elevation angles from both radars."
   ]
  },
  {
   "cell_type": "code",
   "execution_count": 15,
   "metadata": {
    "collapsed": false
   },
   "outputs": [],
   "source": [
    "matched1_polar_0 = matched1_polar[np.ravel(matched1_polar[...,2]==0.5) & np.ravel(matched2_polar[...,2]==0.5)]\n",
    "matched2_polar_0 = matched2_polar[np.ravel(matched1_polar[...,2]==0.5) & np.ravel(matched2_polar[...,2]==0.5)]\n",
    "\n",
    "# This can be applied to other elevation angles as well\n",
    "# matched1_polar_1 = matched1_polar[np.ravel(matched1_polar[...,2]==1.5) & np.ravel(matched2_polar[...,2]==1.5)]\n",
    "# matched2_polar_1 = matched2_polar[np.ravel(matched1_polar[...,2]==1.5) & np.ravel(matched2_polar[...,2]==1.5)]"
   ]
  },
  {
   "cell_type": "code",
   "execution_count": 16,
   "metadata": {
    "collapsed": false
   },
   "outputs": [
    {
     "data": {
      "text/plain": [
       "(1463, 3)"
      ]
     },
     "execution_count": 16,
     "metadata": {},
     "output_type": "execute_result"
    }
   ],
   "source": [
    "matched1_polar_0.shape"
   ]
  },
  {
   "cell_type": "code",
   "execution_count": 17,
   "metadata": {
    "collapsed": false
   },
   "outputs": [],
   "source": [
    "thetas1_0 = sph1[0,:,0,1]\n",
    "rs1_0 = sph1[0,0,:,0]\n",
    "thetas2_0 = sph2[0,:,0,1]\n",
    "rs2_0 = sph2[0,0,:,0]\n",
    "\n",
    "# thetas1_1 = sph1[1,:,0,1]\n",
    "# rs1_1 = sph1[1,0,:,0]\n",
    "# thetas2_1 = sph2[1,:,0,1]\n",
    "# rs2_1 = sph2[1,0,:,0]"
   ]
  },
  {
   "cell_type": "markdown",
   "metadata": {},
   "source": [
    "Now we need to get the polar indices of the matched points. "
   ]
  },
  {
   "cell_type": "code",
   "execution_count": 18,
   "metadata": {
    "collapsed": false
   },
   "outputs": [],
   "source": [
    "rs_matched1_el0 = np.searchsorted(rs1_0,matched1_polar_0[...,0])\n",
    "thetas_matched1_el0 = np.searchsorted(thetas1_0,matched1_polar_0[...,1])\n",
    "rs_matched2_el0 = np.searchsorted(rs2_0,matched2_polar_0[...,0])\n",
    "thetas_matched2_el0 = np.searchsorted(thetas2_0,matched2_polar_0[...,1])\n",
    "\n",
    "# rs_matched1_el1 = np.searchsorted(rs1_1,matched1_polar_1[...,0])\n",
    "# thetas_matched1_el1 = np.searchsorted(thetas1_1,matched1_polar_1[...,1])\n",
    "# rs_matched2_el1 = np.searchsorted(rs2_1,matched2_polar_1[...,0])\n",
    "# thetas_matched2_el1 = np.searchsorted(thetas2_1,matched2_polar_1[...,1])"
   ]
  },
  {
   "cell_type": "markdown",
   "metadata": {},
   "source": [
    "To see how this looks like from the radar coverage perspective, let's create a blank sweep and \"color\" the selected matched bins."
   ]
  },
  {
   "cell_type": "code",
   "execution_count": 19,
   "metadata": {
    "collapsed": true
   },
   "outputs": [],
   "source": [
    "sub_pts0 = np.zeros((360,240))\n",
    "tag_pts0 = np.zeros((360,240))\n",
    "\n",
    "sub_pts0[thetas_matched1_el0,rs_matched1_el0] = 1\n",
    "tag_pts0[thetas_matched2_el0,rs_matched2_el0] = 1"
   ]
  },
  {
   "cell_type": "code",
   "execution_count": 20,
   "metadata": {
    "collapsed": false
   },
   "outputs": [
    {
     "data": {
      "text/plain": [
       "Text(0.5, 1.0, 'TAG')"
      ]
     },
     "execution_count": 20,
     "metadata": {},
     "output_type": "execute_result"
    },
    {
     "data": {
      "image/png": "[encoded data removed]",
      "text/plain": [
       "<Figure size 576x288 with 2 Axes>"
      ]
     },
     "metadata": {
      "needs_background": "light"
     },
     "output_type": "display_data"
    }
   ],
   "source": [
    "fig, (ax1,ax2) = pl.subplots(1,2, figsize=(8,4))\n",
    "\n",
    "ax1,pm1 = wrl.vis.plot_ppi(sub_pts0, ax=ax1)\n",
    "ax1.set_title('SUB')\n",
    "ax2,pm2 = wrl.vis.plot_ppi(tag_pts0, ax=ax2)\n",
    "ax2.set_title('TAG')"
   ]
  },
  {
   "cell_type": "code",
   "execution_count": 21,
   "metadata": {
    "collapsed": true
   },
   "outputs": [],
   "source": [
    "# Saving the objects:\n",
    "with open('./output/GRGRmatchedpoints.pkl', 'wb') as f:  # Python 3: open(..., 'wb')\n",
    "    pickle.dump([rs_matched1_el0, thetas_matched1_el0, rs_matched2_el0, thetas_matched2_el0], f)"
   ]
  },
  {
   "cell_type": "markdown",
   "metadata": {},
   "source": [
    "Looks good. Now we use these matched points in the next notebook to get the actual matched data."
   ]
  },
  {
   "cell_type": "code",
   "execution_count": null,
   "metadata": {
    "collapsed": true
   },
   "outputs": [],
   "source": []
  }
 ],
 "metadata": {
  "anaconda-cloud": {},
  "kernelspec": {
   "display_name": "wradlib35_2",
   "language": "python",
   "name": "wradlib35_2"
  },
  "language_info": {
   "codemirror_mode": {
    "name": "ipython",
    "version": 3
   },
   "file_extension": ".py",
   "mimetype": "text/x-python",
   "name": "python",
   "nbconvert_exporter": "python",
   "pygments_lexer": "ipython3",
   "version": "3.5.5"
  },
  "toc": {
   "nav_menu": {
    "height": "12px",
    "width": "252px"
   },
   "number_sections": false,
   "sideBar": true,
   "skip_h1_title": false,
   "toc_cell": false,
   "toc_position": {},
   "toc_section_display": "block",
   "toc_window_display": false
  }
 },
 "nbformat": 4,
 "nbformat_minor": 2
}
